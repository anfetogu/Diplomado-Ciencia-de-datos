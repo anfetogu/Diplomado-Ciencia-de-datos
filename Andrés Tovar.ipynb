{
 "cells": [
  {
   "cell_type": "markdown",
   "id": "54669f00-0f35-458b-a7cb-999f60efa820",
   "metadata": {},
   "source": [
    "# <h1 style=\"color:gold\"><center>Tecnologías de la ciencia de datos</h1>\n",
    "![Python logo](https://www.freecodecamp.org/espanol/news/content/images/2021/02/Python-language-1-.png)<center>"
   ]
  },
  {
   "cell_type": "markdown",
   "id": "dd7649c5-c1e3-47da-81b7-98c3a7513d14",
   "metadata": {},
   "source": [
    "# <h1 style=\"color:blue\">¿Qué es la ciencia de datos?</h1>\n",
    "La ciencia de datos es el estudio de datos con el fin de extraer información significativa para empresas. Es un enfoque multidisciplinario que combina principios y prácticas del campo de las matemáticas, la estadística, la inteligencia artificial y la ingeniería de computación para analizar grandes cantidades de datos. Este análisis permite que los científicos de datos planteen y respondan a preguntas como “qué pasó”, “por qué pasó”, “qué pasará” y “qué se puede hacer con los resultados”.\n",
    "\n",
    "## <h1 style=\"color:blue\">¿Cuáles son las diferentes tecnologías de la ciencia de datos?</h1>\n",
    "1. **Inteligencia artificial:** los modelos de machine learning y el software relacionado con este se utilizan para el análisis predictivo y prescriptivo.\n",
    "2. **Computación en la nube:** las tecnologías en la nube ofrecen a los científicos de datos la flexibilidad y capacidad de procesamiento necesarias para el análisis avanzado de datos.\n",
    "3. **Internet de las cosas:** el Internet de las cosas se refiere a varios dispositivos que se pueden conectar de forma automática a Internet. Estos dispositivos recogen datos para iniciativas de la ciencia de datos. Generan datos masivos que se pueden utilizar para la minería y extracción de datos.\n",
    "4. **Computación cuántica:** las computadoras cuánticas pueden realizar cálculos complejos a gran velocidad. Científicos de datos cualificados los utilizan para crear complejos algoritmos cuantitativos."
   ]
  },
  {
   "cell_type": "markdown",
   "id": "b8d1eee5-fded-42f6-8c3c-da02702fd478",
   "metadata": {},
   "source": [
    "# <h1 style=\"color:red\">Algunos links de interés:</h1>\n",
    "\n",
    "- Uno de los líderes en esta industria es [Amazon](https://aws.amazon.com/es/what-is/data-science/). De igual forma, se podrá encontrar información valiosa en la página de [SAP](https://www.sap.com/latinamerica/insights/what-is-iot-internet-of-things.html)."
   ]
  },
  {
   "cell_type": "markdown",
   "id": "ea229c4b-e4f7-43a9-afbd-b2dad424c508",
   "metadata": {},
   "source": [
    "\n",
    "\n",
    "_Realizado por:_ **Andrés Felipe Tovar Gualdrón**\n",
    "- Soy de la ciudad de Bogotá, tengo 27 años, soy ingeniero de petróleos y especialista en gestión ambiental egresado de la Universidad de América.\n",
    "- Me gusta practicar deporte, jugar fútbol, ir al gimnasio y realizar actividades al aire libre.\n",
    "- Me interesa el tema de la programación y el mundo tech porque quiero expandir mis conocimientos y tener un mejor desarollo como profesional, y así aplicar estos conocimientos en diferentes campos. \n",
    "\n",
    "<figure>\n",
    "    <center>\n",
    "<img src=\"Pictures/Camera Roll/IMG_20221010_090536604_HDR.jpg\" width\"10\" height\"10\" />"
   ]
  },
  {
   "cell_type": "code",
   "execution_count": null,
   "id": "61617f10-6879-422f-95da-4e3e2f9c4d3a",
   "metadata": {},
   "outputs": [],
   "source": []
  }
 ],
 "metadata": {
  "kernelspec": {
   "display_name": "Python 3 (ipykernel)",
   "language": "python",
   "name": "python3"
  },
  "language_info": {
   "codemirror_mode": {
    "name": "ipython",
    "version": 3
   },
   "file_extension": ".py",
   "mimetype": "text/x-python",
   "name": "python",
   "nbconvert_exporter": "python",
   "pygments_lexer": "ipython3",
   "version": "3.10.6"
  }
 },
 "nbformat": 4,
 "nbformat_minor": 5
}
