{
 "cells": [
  {
   "cell_type": "markdown",
   "id": "5308e790-b2e9-4cc2-ba50-ee73eb56644d",
   "metadata": {},
   "source": [
    "# Título: Marketing Digital"
   ]
  },
  {
   "cell_type": "markdown",
   "id": "bf1c51af-99f0-42a5-ae04-550856efcca6",
   "metadata": {},
   "source": [
    "## Reporte No 1. Propuesta del proyecto"
   ]
  },
  {
   "cell_type": "markdown",
   "id": "aa56d42d-61fb-4426-9a02-fd40ccec486d",
   "metadata": {},
   "source": [
    "## Asesor Principal: Alvaro Montenegro"
   ]
  },
  {
   "cell_type": "markdown",
   "id": "438c81a7-0c5d-4beb-9a6a-cd902c938ec7",
   "metadata": {},
   "source": [
    "### Autores: \n",
    "- Miguel Ángel Agudelo \n",
    "- Andrés Felipe Tovar\n"
   ]
  },
  {
   "cell_type": "markdown",
   "id": "29e72d65-1b70-435b-a65a-8bbf257fb8fe",
   "metadata": {},
   "source": [
    "## Introducción\n",
    "El presente proyecto tiene como objetivo analizar las variables mas importantes a la hora de tener resultados de campañas publicitarias en plataformas de anuncios online. \n",
    "\n",
    "Lo anterior es de suma importancia, ya que actualmente la cantidad de empresas y negocios que utilizan estos medios para llegar a sus clientes potenciales va en aumento, al igual que la competencia por los mismos, donde desmarcarse del monton y analizar correctamente la información otorga una ventaja crucial en un mercado tan cambiante."
   ]
  },
  {
   "cell_type": "markdown",
   "id": "95cbcf24-600f-43fa-bc1c-adc63c70a5c2",
   "metadata": {},
   "source": [
    "### Descripción del problema\n",
    "\n",
    "Merkle Sokrati es un patio de juegos lleno de cafeína donde mentes brillantes se unen para dar vida a ideas audaces y galardonadas. Para ayudar con esto, estamos buscando un analista de datos sobresaliente que sea un pensador original y un gurú técnico. Suena como usted, ¡entonces siga leyendo!\n",
    "Primero queremos recopilar más información sobre su proceso de pensamiento, así que aquí está la tarea:\n",
    "El origen de la informacion procede de campañas de marketing que contienen datos del 19 de octubre al 20 de julio. Estos datos provienen de campañas de Google y Facebook que muestran el rendimiento de diferentes grupos de edad para diferentes dimensiones.\n",
    "• Todos los campos clave como: Plataforma, Tipo, Medio, Subcanal, Audiencia, Creatividad ya se han asignado a los datos.\n",
    "- Plataforma: Plataformas de marketing en las que se ejecutan principalmente las campañas: Google Ads y Facebook Ads\n",
    "- Tipo: Tipo de campaña. En estos datos solo se han considerado las campañas de búsqueda de Gogole y de conversión de Facebook.\n",
    "- Medio: la forma en que nos conectamos con las personas en nuestras campañas de marketing, ya sea a través de algunas palabras clave o creatividades.\n",
    "- Subcanal: el subcanal se encuentra en la Búsqueda de Google, cuyo tipo de palabras clave se han orientado en Facebook, a las que nos dirigimos en el subcanal.\n",
    "- Audiencia: se están orientando varios tipos de audiencias en diferentes campañas y se han cifrado como Audiencia 1,2,3\n",
    "- Creativo: Esto si para Facebook qué tipo de Imagen/Video/Carrusel estamos usando en nuestros Anuncios.\n"
   ]
  },
  {
   "cell_type": "markdown",
   "id": "8ba8be24-6ec3-4416-b84d-798a68ad44e6",
   "metadata": {},
   "source": [
    "### Fuentes de datos:\n",
    "\n",
    "Obtendremos la información de la base de datos [Kaggle](https://www.kaggle.com/datasets/bpforever/google-and-facebook-ads)"
   ]
  },
  {
   "cell_type": "markdown",
   "id": "1e4a38bc-15de-44e3-9340-3d4f73c781c9",
   "metadata": {},
   "source": [
    "### Procesamiento ETL:\n",
    "\n",
    "1. Ventas semanales por tipo de producto \n",
    "2. Pareto de tipo de producto que generan el 80% de las ventas\n",
    "3. Rango de edad del cliente ideal teniendo en cuenta la segmentación propuesta en campañas\n",
    "4. CPL: Cost Per Click \n",
    "5. CTR: Click Trough Rate (Conjuntos de anuncios)\n",
    "6. ROAS"
   ]
  },
  {
   "cell_type": "markdown",
   "id": "bfa94a59-99c8-453f-9ebd-9a9f825b3199",
   "metadata": {},
   "source": [
    "### Exploración de datos\n",
    "\n",
    "En el transcurso del diplomado se irán adquiriendo las herramientas necesarias para darle continuidad a esta parte del proyecto."
   ]
  },
  {
   "cell_type": "markdown",
   "id": "3bd1baf1-769e-4805-bc02-434ad3665865",
   "metadata": {},
   "source": [
    "### Conocimientos requeridos para el desarrollo del proyecto\n",
    "\n",
    "En el transcurso del diplomado se irán adquiriendo las herramientas necesarias para darle continuidad a esta parte del proyecto."
   ]
  },
  {
   "cell_type": "markdown",
   "id": "b365586e-85c8-4bd0-8543-58182819b0de",
   "metadata": {},
   "source": [
    "### Resultados esperados\n",
    "\n",
    "En el transcurso del diplomado se irán adquiriendo las herramientas necesarias para darle continuidad a esta parte del proyecto."
   ]
  },
  {
   "cell_type": "markdown",
   "id": "bd284ccf-99bf-4e72-a15f-46a966ddc080",
   "metadata": {},
   "source": [
    "### Tiempo de desarrollo esperado\n",
    "\n",
    "5 semanas."
   ]
  },
  {
   "cell_type": "code",
   "execution_count": null,
   "id": "5fff183a-9339-4e0e-bc80-d4a3577bfcdc",
   "metadata": {},
   "outputs": [],
   "source": []
  }
 ],
 "metadata": {
  "kernelspec": {
   "display_name": "Python 3 (ipykernel)",
   "language": "python",
   "name": "python3"
  },
  "language_info": {
   "codemirror_mode": {
    "name": "ipython",
    "version": 3
   },
   "file_extension": ".py",
   "mimetype": "text/x-python",
   "name": "python",
   "nbconvert_exporter": "python",
   "pygments_lexer": "ipython3",
   "version": "3.10.6"
  }
 },
 "nbformat": 4,
 "nbformat_minor": 5
}
